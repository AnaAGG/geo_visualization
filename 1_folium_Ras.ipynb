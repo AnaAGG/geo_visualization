{
 "cells": [
  {
   "cell_type": "markdown",
   "metadata": {},
   "source": [
    "### Intro to Folium "
   ]
  },
  {
   "cell_type": "markdown",
   "metadata": {},
   "source": [
    "![mapa](images/geo_portada.jpg)"
   ]
  },
  {
   "cell_type": "markdown",
   "metadata": {},
   "source": [
    "Lo primerito será siempre leer la documentación ¿no? PLS :cobete: :músculo: :fueguito: \n",
    "- https://python-visualization.github.io/folium/"
   ]
  },
  {
   "cell_type": "code",
   "execution_count": 1,
   "metadata": {},
   "outputs": [],
   "source": [
    "#!pip3 install folium"
   ]
  },
  {
   "cell_type": "code",
   "execution_count": 2,
   "metadata": {},
   "outputs": [],
   "source": [
    "import folium\n",
    "from folium import Choropleth, Circle, Marker, Icon, Map\n",
    "from folium.plugins import HeatMap, MarkerCluster\n",
    "import pandas as pd"
   ]
  },
  {
   "cell_type": "code",
   "execution_count": 3,
   "metadata": {},
   "outputs": [],
   "source": [
    "inicial_lat = 40.4143851\n",
    "inicial_long = -3.6820241"
   ]
  },
  {
   "cell_type": "markdown",
   "metadata": {},
   "source": [
    "### Primerito Mapa "
   ]
  },
  {
   "cell_type": "markdown",
   "metadata": {},
   "source": [
    "Creamos un mapa básico a raíz de unas coordenadas con un zoom inicial"
   ]
  },
  {
   "cell_type": "code",
   "execution_count": null,
   "metadata": {},
   "outputs": [],
   "source": [
    "#mapa aquí :) "
   ]
  },
  {
   "cell_type": "markdown",
   "metadata": {},
   "source": [
    "### Marker"
   ]
  },
  {
   "cell_type": "markdown",
   "metadata": {},
   "source": [
    "Os dejo por aquí la doc concreta de los marker\n",
    "- https://python-visualization.github.io/folium/modules.html?highlight=marker"
   ]
  },
  {
   "cell_type": "markdown",
   "metadata": {},
   "source": [
    "Para añadir markers en un mapa, tendremos que \"añadir\" elementos a dicho mapa, por eso, vamos a añadirlos al mapa anterior llamado map_1. "
   ]
  },
  {
   "cell_type": "code",
   "execution_count": null,
   "metadata": {},
   "outputs": [],
   "source": [
    "#Marker Parque de Dobby"
   ]
  },
  {
   "cell_type": "markdown",
   "metadata": {},
   "source": [
    "Añadimos otro Marker y vemos que le podemos cambiar el icono y el color de fondo y del icono."
   ]
  },
  {
   "cell_type": "code",
   "execution_count": 6,
   "metadata": {},
   "outputs": [],
   "source": [
    "#Ubicación de la casa de Dobby\n",
    "lavapi_lat = 40.408808\n",
    "lavapi_long = -3.7034796"
   ]
  },
  {
   "cell_type": "markdown",
   "metadata": {},
   "source": [
    "Pero...wait ¿quién es Dobby?"
   ]
  },
  {
   "cell_type": "markdown",
   "metadata": {},
   "source": [
    "![mapa](images/dobby.jpeg)"
   ]
  },
  {
   "cell_type": "code",
   "execution_count": null,
   "metadata": {},
   "outputs": [],
   "source": [
    "Para modificar los iconos ¿de dónde los sacamos?\n",
    "- https://fontawesome.com/v4.7.0/icons/\n",
    "- https://getbootstrap.com/docs/3.3/components/"
   ]
  },
  {
   "cell_type": "code",
   "execution_count": 4,
   "metadata": {},
   "outputs": [],
   "source": [
    "#prefix = fa lo ponemos cuando usemos los iconos de fontawesome.\n"
   ]
  },
  {
   "cell_type": "code",
   "execution_count": 8,
   "metadata": {},
   "outputs": [],
   "source": [
    "#guardamos el marker en una variable\n"
   ]
  },
  {
   "cell_type": "code",
   "execution_count": 6,
   "metadata": {},
   "outputs": [],
   "source": [
    "#añadimos el marker al mapa original donde ya teníamos el parque de Dobby guardado\n"
   ]
  },
  {
   "cell_type": "markdown",
   "metadata": {},
   "source": [
    "### Markers, muchos markers, todos los markers a la vez 🚀"
   ]
  },
  {
   "cell_type": "markdown",
   "metadata": {},
   "source": [
    "Para enseñar este ejemplo, utilizamos un dataset donde tenemos ya unas columnas de latitud y longitud "
   ]
  },
  {
   "cell_type": "code",
   "execution_count": 10,
   "metadata": {},
   "outputs": [],
   "source": [
    "df = pd.read_csv('data/bici_clean.csv')"
   ]
  },
  {
   "cell_type": "code",
   "execution_count": 11,
   "metadata": {},
   "outputs": [
    {
     "data": {
      "text/html": [
       "<div>\n",
       "<style scoped>\n",
       "    .dataframe tbody tr th:only-of-type {\n",
       "        vertical-align: middle;\n",
       "    }\n",
       "\n",
       "    .dataframe tbody tr th {\n",
       "        vertical-align: top;\n",
       "    }\n",
       "\n",
       "    .dataframe thead th {\n",
       "        text-align: right;\n",
       "    }\n",
       "</style>\n",
       "<table border=\"1\" class=\"dataframe\">\n",
       "  <thead>\n",
       "    <tr style=\"text-align: right;\">\n",
       "      <th></th>\n",
       "      <th>fecha</th>\n",
       "      <th>dia</th>\n",
       "      <th>year</th>\n",
       "      <th>horario</th>\n",
       "      <th>festividad</th>\n",
       "      <th>tipo_accidente</th>\n",
       "      <th>lesividad</th>\n",
       "      <th>meteo</th>\n",
       "      <th>distrito</th>\n",
       "      <th>direccion</th>\n",
       "      <th>lon</th>\n",
       "      <th>lat</th>\n",
       "    </tr>\n",
       "  </thead>\n",
       "  <tbody>\n",
       "    <tr>\n",
       "      <th>0</th>\n",
       "      <td>2019-01-01 14:00:00</td>\n",
       "      <td>2019-01-01 00:00:00</td>\n",
       "      <td>2019</td>\n",
       "      <td>Tarde</td>\n",
       "      <td>Festivo</td>\n",
       "      <td>Colision</td>\n",
       "      <td>Moderada</td>\n",
       "      <td>Despejado</td>\n",
       "      <td>SALAMANCA</td>\n",
       "      <td>CALLE CASTELLO / CALLE DON RAMON DE LA CRUZ Ma...</td>\n",
       "      <td>-3.681209</td>\n",
       "      <td>40.428990</td>\n",
       "    </tr>\n",
       "    <tr>\n",
       "      <th>1</th>\n",
       "      <td>2019-01-02 21:00:00</td>\n",
       "      <td>2019-01-02 00:00:00</td>\n",
       "      <td>2019</td>\n",
       "      <td>Noche</td>\n",
       "      <td>Laborable</td>\n",
       "      <td>Colision</td>\n",
       "      <td>Grave</td>\n",
       "      <td>Despejado</td>\n",
       "      <td>HORTALEZA</td>\n",
       "      <td>AVDA. GRAN VIA DE HORTALEZA / GTA. LUIS ROSALE...</td>\n",
       "      <td>-3.654527</td>\n",
       "      <td>40.466921</td>\n",
       "    </tr>\n",
       "    <tr>\n",
       "      <th>2</th>\n",
       "      <td>2019-01-03 14:00:00</td>\n",
       "      <td>2019-01-03 00:00:00</td>\n",
       "      <td>2019</td>\n",
       "      <td>Tarde</td>\n",
       "      <td>Laborable</td>\n",
       "      <td>Colision</td>\n",
       "      <td>Leve</td>\n",
       "      <td>Despejado</td>\n",
       "      <td>VILLA DE VALLECAS</td>\n",
       "      <td>CALLE FELIPE ALVAREZ 10 Madrid</td>\n",
       "      <td>-3.623423</td>\n",
       "      <td>40.381971</td>\n",
       "    </tr>\n",
       "    <tr>\n",
       "      <th>3</th>\n",
       "      <td>2019-01-03 13:00:00</td>\n",
       "      <td>2019-01-03 00:00:00</td>\n",
       "      <td>2019</td>\n",
       "      <td>Tarde</td>\n",
       "      <td>Laborable</td>\n",
       "      <td>Colision</td>\n",
       "      <td>Leve</td>\n",
       "      <td>Despejado</td>\n",
       "      <td>VILLA DE VALLECAS</td>\n",
       "      <td>AVDA. SANTA EUGENIA / CALLE REAL DE ARGANDA Ma...</td>\n",
       "      <td>-3.608276</td>\n",
       "      <td>40.377939</td>\n",
       "    </tr>\n",
       "    <tr>\n",
       "      <th>4</th>\n",
       "      <td>2019-01-03 13:00:00</td>\n",
       "      <td>2019-01-03 00:00:00</td>\n",
       "      <td>2019</td>\n",
       "      <td>Tarde</td>\n",
       "      <td>Laborable</td>\n",
       "      <td>Colision</td>\n",
       "      <td>Leve</td>\n",
       "      <td>Despejado</td>\n",
       "      <td>VILLA DE VALLECAS</td>\n",
       "      <td>AVDA. SANTA EUGENIA / CALLE REAL DE ARGANDA Ma...</td>\n",
       "      <td>-3.608276</td>\n",
       "      <td>40.377939</td>\n",
       "    </tr>\n",
       "  </tbody>\n",
       "</table>\n",
       "</div>"
      ],
      "text/plain": [
       "                 fecha                  dia  year horario festividad  \\\n",
       "0  2019-01-01 14:00:00  2019-01-01 00:00:00  2019   Tarde    Festivo   \n",
       "1  2019-01-02 21:00:00  2019-01-02 00:00:00  2019   Noche  Laborable   \n",
       "2  2019-01-03 14:00:00  2019-01-03 00:00:00  2019   Tarde  Laborable   \n",
       "3  2019-01-03 13:00:00  2019-01-03 00:00:00  2019   Tarde  Laborable   \n",
       "4  2019-01-03 13:00:00  2019-01-03 00:00:00  2019   Tarde  Laborable   \n",
       "\n",
       "  tipo_accidente lesividad      meteo           distrito  \\\n",
       "0       Colision  Moderada  Despejado          SALAMANCA   \n",
       "1       Colision     Grave  Despejado          HORTALEZA   \n",
       "2       Colision      Leve  Despejado  VILLA DE VALLECAS   \n",
       "3       Colision      Leve  Despejado  VILLA DE VALLECAS   \n",
       "4       Colision      Leve  Despejado  VILLA DE VALLECAS   \n",
       "\n",
       "                                           direccion       lon        lat  \n",
       "0  CALLE CASTELLO / CALLE DON RAMON DE LA CRUZ Ma... -3.681209  40.428990  \n",
       "1  AVDA. GRAN VIA DE HORTALEZA / GTA. LUIS ROSALE... -3.654527  40.466921  \n",
       "2                     CALLE FELIPE ALVAREZ 10 Madrid -3.623423  40.381971  \n",
       "3  AVDA. SANTA EUGENIA / CALLE REAL DE ARGANDA Ma... -3.608276  40.377939  \n",
       "4  AVDA. SANTA EUGENIA / CALLE REAL DE ARGANDA Ma... -3.608276  40.377939  "
      ]
     },
     "execution_count": 11,
     "metadata": {},
     "output_type": "execute_result"
    }
   ],
   "source": [
    "df.head()"
   ]
  },
  {
   "cell_type": "code",
   "execution_count": 12,
   "metadata": {},
   "outputs": [],
   "source": [
    "#Como hay muchos datos y estamos haciendo pruebas, vamos a quedarnos solo con los de 2019\n",
    "df_2019 = df[(df.year == 2019)]"
   ]
  },
  {
   "cell_type": "code",
   "execution_count": 5,
   "metadata": {},
   "outputs": [],
   "source": [
    "#¿Cuántas clasificaciones de festividad hay?\n"
   ]
  },
  {
   "cell_type": "code",
   "execution_count": null,
   "metadata": {},
   "outputs": [],
   "source": []
  },
  {
   "cell_type": "markdown",
   "metadata": {},
   "source": [
    "Vamos a iterar sobre todas las filas del dataframe buscando qué hay dentro de cada fila en la columna. \n",
    "Pondremos un icono a los accidentes en función de la columna \"festivo\"\n",
    "Pero tendremos que guardar las configuraciones y añadir el Marker al final y todo esto dentro de un bucle 🤭🤯\n",
    "- Primero la config del tooltip\n",
    "- Después el iconito en función del festivo\n",
    "- Por último añadir cada marker\n",
    "\n",
    "Keep Calm, lo vemos 🙃"
   ]
  },
  {
   "cell_type": "code",
   "execution_count": 8,
   "metadata": {},
   "outputs": [],
   "source": [
    "#Bueno, recordad que lo primerito es crear un mapa base al que añadimos cosas\n",
    "map_2 = Map(location=[40.428990,-3.681209],zoom_start=15)"
   ]
  },
  {
   "cell_type": "markdown",
   "metadata": {},
   "source": [
    "¿Es el mejor modo de visualizar esto? Hemos creado un mapa con infinitos Markers...mazo de markers...pero ¿Hay otro modo de visualizar esta información un poquito mejor?\n",
    "Cuando tenemos muchos datos agrupados 🗺"
   ]
  },
  {
   "cell_type": "markdown",
   "metadata": {},
   "source": [
    "### Mapa de Calor"
   ]
  },
  {
   "cell_type": "markdown",
   "metadata": {},
   "source": [
    "Vamos a comprobar cuántas categorías hay en la columna de horario, para hacer un mapa de calor. Primero hacemos un mapa con el horario de mañana, y después añadimos el horario de tarde con el Layer Control. \n",
    "Allá vamos 🔥"
   ]
  },
  {
   "cell_type": "code",
   "execution_count": 15,
   "metadata": {},
   "outputs": [
    {
     "data": {
      "text/plain": [
       "array(['Tarde', 'Noche', 'Mañana'], dtype=object)"
      ]
     },
     "execution_count": 15,
     "metadata": {},
     "output_type": "execute_result"
    }
   ],
   "source": [
    "df.horario.unique()"
   ]
  },
  {
   "cell_type": "code",
   "execution_count": 16,
   "metadata": {},
   "outputs": [],
   "source": [
    "map_3 = Map(location=[40.428990,-3.681209],zoom_start=15)"
   ]
  },
  {
   "cell_type": "code",
   "execution_count": 19,
   "metadata": {},
   "outputs": [],
   "source": [
    "map_3.save('data/primerito_mapa')"
   ]
  }
 ],
 "metadata": {
  "kernelspec": {
   "display_name": "Python 3",
   "language": "python",
   "name": "python3"
  },
  "language_info": {
   "codemirror_mode": {
    "name": "ipython",
    "version": 3
   },
   "file_extension": ".py",
   "mimetype": "text/x-python",
   "name": "python",
   "nbconvert_exporter": "python",
   "pygments_lexer": "ipython3",
   "version": "3.8.5"
  }
 },
 "nbformat": 4,
 "nbformat_minor": 4
}
